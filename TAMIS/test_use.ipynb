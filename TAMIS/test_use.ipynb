{
 "cells": [
  {
   "cell_type": "code",
   "execution_count": 2,
   "id": "9a67fc45-950f-4faa-9973-4dcd901a8f38",
   "metadata": {},
   "outputs": [
    {
     "ename": "ImportError",
     "evalue": "attempted relative import with no known parent package",
     "output_type": "error",
     "traceback": [
      "\u001b[0;31m---------------------------------------------------------------------------\u001b[0m",
      "\u001b[0;31mImportError\u001b[0m                               Traceback (most recent call last)",
      "Cell \u001b[0;32mIn[2], line 2\u001b[0m\n\u001b[1;32m      1\u001b[0m \u001b[38;5;28;01mfrom\u001b[39;00m \u001b[38;5;21;01mexamples\u001b[39;00m \u001b[38;5;28;01mimport\u001b[39;00m gaussian, Banana,reg_log_speagle\n\u001b[0;32m----> 2\u001b[0m \u001b[38;5;28;01mfrom\u001b[39;00m \u001b[38;5;21;01mTAMIS\u001b[39;00m \u001b[38;5;28;01mimport\u001b[39;00m TAMIS\n\u001b[1;32m      3\u001b[0m \u001b[38;5;28;01mfrom\u001b[39;00m \u001b[38;5;21;01mutils\u001b[39;00m \u001b[38;5;28;01mimport\u001b[39;00m \u001b[38;5;241m*\u001b[39m\n\u001b[1;32m      4\u001b[0m \u001b[38;5;28;01mfrom\u001b[39;00m \u001b[38;5;21;01mGMM\u001b[39;00m \u001b[38;5;28;01mimport\u001b[39;00m Mixture_gaussian\n",
      "File \u001b[0;32m~/Work/TAMIS_distrib/TAMIS/src/TAMIS/TAMIS.py:9\u001b[0m\n\u001b[1;32m      7\u001b[0m \u001b[38;5;28;01mimport\u001b[39;00m \u001b[38;5;21;01mnumpy\u001b[39;00m \u001b[38;5;28;01mas\u001b[39;00m \u001b[38;5;21;01mnp\u001b[39;00m\n\u001b[1;32m      8\u001b[0m \u001b[38;5;28;01mimport\u001b[39;00m \u001b[38;5;21;01mtime\u001b[39;00m\n\u001b[0;32m----> 9\u001b[0m \u001b[38;5;28;01mfrom\u001b[39;00m \u001b[38;5;21;01m.\u001b[39;00m\u001b[38;5;21;01mutils\u001b[39;00m \u001b[38;5;28;01mimport\u001b[39;00m compute_ESS,compute_KL, compute_perplexity, adapt_beta,log_weights_to_norm_weights\n\u001b[1;32m     10\u001b[0m \u001b[38;5;28;01mimport\u001b[39;00m \u001b[38;5;21;01mscipy\u001b[39;00m\u001b[38;5;21;01m.\u001b[39;00m\u001b[38;5;21;01mstats\u001b[39;00m \u001b[38;5;28;01mas\u001b[39;00m \u001b[38;5;21;01mstats\u001b[39;00m\n\u001b[1;32m     11\u001b[0m \u001b[38;5;28;01mfrom\u001b[39;00m \u001b[38;5;21;01m.\u001b[39;00m\u001b[38;5;21;01mGMM\u001b[39;00m \u001b[38;5;28;01mimport\u001b[39;00m GMM_fit\n",
      "\u001b[0;31mImportError\u001b[0m: attempted relative import with no known parent package"
     ]
    }
   ],
   "source": [
    "\n",
    "\n",
    "from examples import gaussian, Banana,reg_log_speagle\n",
    "from TAMIS import TAMIS\n",
    "from utils import *\n",
    "from GMM import Mixture_gaussian\n",
    "from plots import plot_convergence\n",
    "#import TAMIS\n",
    "import  matplotlib.pyplot as plt\n",
    "import numpy as np\n",
    "from scipy import stats\n",
    "\n"
   ]
  },
  {
   "cell_type": "code",
   "execution_count": null,
   "id": "97d1b85b-9575-4e2e-88a7-7333d09b91b9",
   "metadata": {},
   "outputs": [],
   "source": [
    "\n",
    "dim=10\n",
    "var0 = [5]*dim\n",
    "n_comp = 5\n",
    "T_max = 2000\n",
    "n_sample = [200] +[200]*(T_max-1)\n",
    "init_mean = stats.uniform.rvs(size =(n_comp,dim),loc=-100,scale = 2)\n",
    "prior = [init_mean,\n",
    "         np.array([np.diag(var0)]*n_comp),\n",
    "         np.ones((n_comp,))/n_comp]\n",
    "init_theta = TAMIS.theta_params(prior)\n",
    "small_banana =  TAMIS.Banana(var_banana = 10,dim = dim, b = 0.02)\n",
    "\n",
    "test_banana =  TAMIS.TAMIS(target = small_banana,\n",
    "                        n_comp = n_comp, \n",
    "                        init_theta=init_theta,\n",
    "                        ESS_tol = np.inf,\n",
    "                        alpha = 100,\n",
    "                        tau = 0,\n",
    "                        proposal = TAMIS.Mixture_gaussian,\n",
    "                        n_sample=n_sample,\n",
    "                        EM_solver =\"homemade\",\n",
    "                        integer_weights = False,\n",
    "                        recycle = True,\n",
    "                        recycling_iters=\"auto\",\n",
    "                        verbose =0).result(T=T_max)\n",
    "\n",
    "TAMIS.plot_convergence(test_banana)\n",
    "\n",
    "plt.show()\n",
    "plt.hexbin(test_banana.total_sample[:,0],test_banana.total_sample[:,1],\n",
    "           C=test_banana.final_weights, gridsize = 30)\n",
    "\n",
    "\n",
    "\n",
    "\n",
    "dim=3\n",
    "var0 = [5]*dim\n",
    "n_comp = 1\n",
    "T_max = 200\n",
    "n_sample = [300] +[300]*(T_max-1)\n",
    "init_mean = stats.uniform.rvs(size =(n_comp,dim),loc=-2,scale = 2)\n",
    "prior = [init_mean,\n",
    "         np.array([np.diag(var0)]*n_comp),\n",
    "         np.ones((n_comp,))/n_comp]\n",
    "\n",
    "init_theta = theta_params(prior)\n",
    "\n",
    "speagle = reg_log_speagle()\n",
    "\n",
    "test_speagle = TAMIS(target = speagle,\n",
    "                        n_comp = n_comp, \n",
    "                        init_theta=init_theta,\n",
    "                        ESS_tol = 17000,\n",
    "                        alpha = 20,\n",
    "                        tau = 0,\n",
    "                        proposal = Mixture_gaussian,\n",
    "                        n_sample=n_sample,\n",
    "                        EM_solver =\"homemade\",\n",
    "                        integer_weights = False,\n",
    "                        recycle = True,\n",
    "                        recycling_iters=\"auto\",\n",
    "                        verbose =0).result(T=T_max)\n",
    "\n",
    "plot_convergence(test_speagle)\n",
    "print(test_speagle.ESS_final)\n",
    "plt.show()\n",
    "plt.hexbin(test_speagle.total_sample[:,0],test_speagle.total_sample[:,2],\n",
    "           C=test_speagle.final_weights, gridsize = 30)\n"
   ]
  }
 ],
 "metadata": {
  "kernelspec": {
   "display_name": "Python 3 (ipykernel)",
   "language": "python",
   "name": "python3"
  },
  "language_info": {
   "codemirror_mode": {
    "name": "ipython",
    "version": 3
   },
   "file_extension": ".py",
   "mimetype": "text/x-python",
   "name": "python",
   "nbconvert_exporter": "python",
   "pygments_lexer": "ipython3",
   "version": "3.9.16"
  }
 },
 "nbformat": 4,
 "nbformat_minor": 5
}
